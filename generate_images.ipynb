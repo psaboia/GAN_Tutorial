{
 "cells": [
  {
   "cell_type": "markdown",
   "metadata": {},
   "source": [
    "# Example of using the generator after it is trained"
   ]
  },
  {
   "cell_type": "code",
   "execution_count": null,
   "metadata": {},
   "outputs": [],
   "source": [
    "# Import notebook\n",
    "import import_ipynb\n",
    "from gan_auxfuncs import generate_image\n",
    "\n",
    "# import modules\n",
    "import os, sys\n",
    "import numpy as np\n",
    "from keras.models import load_model\n",
    "import matplotlib.pyplot as plt\n",
    "import matplotlib.gridspec as gridspec\n",
    "import time\n",
    "from PIL import Image\n",
    "from matplotlib.pyplot import imshow\n",
    "%matplotlib inline\n",
    "\n",
    "# Number of fake images by model\n",
    "num_fakes = 16\n",
    "\n",
    "# Shape of the noise to the Generator\n",
    "# Note: That shape needs to be the same \n",
    "#       that was used to train the model you are choosing.\n",
    "noise_shape = (1,1,100)\n",
    "\n",
    "# Path name where generated images will be saved\n",
    "img_save_dir = os.path.abspath('./generated_images/')\n",
    "\n",
    "# Path of the saved generator model file (hdf5 extension)\n",
    "model_path = os.path.abspath('./output_data/')\n",
    "\n",
    "# Model id set\n",
    "#hdf5_set = (5499, 5999, 6499, 6999, 7499, 7999, 8499, 8999, 9999)\n",
    "hdf5_set = (9999)\n",
    "\n",
    "\n",
    "for id_hdf5 in hdf5_set:\n",
    "\n",
    "    # Path name where generated images will be saved\n",
    "    save_dir = img_save_dir + '/' + str(id_hdf5) + '/'\n",
    "    print(save_dir)\n",
    "    os.mkdir(save_dir)                                  \n",
    "\n",
    "    # Saved model file name (hdf5 extension)\n",
    "    model_fname = model_path + '/' + str(id_hdf5) +'_GENERATOR_weights_and_arch.hdf5'\n",
    "\n",
    "    # Load model\n",
    "    generator = load_model(model_fname)\n",
    "\n",
    "    for i in range(num_fakes):\n",
    "        # Generate sample image\n",
    "        generate_image(generator, noise_shape, save_dir)\n",
    "        print(\"id_model = \",  id_hdf5, \", id_im = \", i) "
   ]
  }
 ],
 "metadata": {
  "kernelspec": {
   "display_name": "Python 3",
   "language": "python",
   "name": "python3"
  },
  "language_info": {
   "codemirror_mode": {
    "name": "ipython",
    "version": 3
   },
   "file_extension": ".py",
   "mimetype": "text/x-python",
   "name": "python",
   "nbconvert_exporter": "python",
   "pygments_lexer": "ipython3",
   "version": "3.5.2"
  }
 },
 "nbformat": 4,
 "nbformat_minor": 2
}
