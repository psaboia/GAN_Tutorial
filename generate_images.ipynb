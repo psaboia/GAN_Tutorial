{
 "cells": [
  {
   "cell_type": "code",
   "execution_count": null,
   "metadata": {},
   "outputs": [],
   "source": [
    "import import_ipynb\n",
    "from gan_auxfuncs import *\n",
    "\n",
    "import os, sys\n",
    "import numpy as np\n",
    "from keras.models import load_model\n",
    "import matplotlib.pyplot as plt\n",
    "import matplotlib.gridspec as gridspec\n",
    "import time\n",
    "from PIL import Image\n",
    "from matplotlib.pyplot import imshow\n",
    "\n",
    "\n",
    "%matplotlib inline"
   ]
  },
  {
   "cell_type": "code",
   "execution_count": null,
   "metadata": {},
   "outputs": [],
   "source": [
    "def generate_image(generator, noise_shape, save_dir):\n",
    "    \n",
    "    noise = get_normal_noise_vector(1, noise_shape)\n",
    "    fake_data_X = generator.predict(noise)\n",
    "    array_img = denorm_img(fake_data_X[0, :,:,:])\n",
    "\n",
    "    im = Image.fromarray(array_img)\n",
    "    \n",
    "    # Save generate image\n",
    "    fname = save_dir +'/'+ str(time.time()) + \"_fake_image.png\"\n",
    "    im.save(fname)\n",
    "    \n",
    "    ## show generate image ##\n",
    "    # plt.axis('off')\n",
    "    # plt.imshow(im)\n",
    "    # plt.show()"
   ]
  },
  {
   "cell_type": "code",
   "execution_count": null,
   "metadata": {},
   "outputs": [],
   "source": [
    "# Number of fake images by model\n",
    "num_fakes = 16\n",
    "\n",
    "# Shape of the noise to the Generator\n",
    "# Note: That shape needs to be the same \n",
    "#       that was used to train the model you are choosing.\n",
    "noise_shape = (1,1,100)\n",
    "\n",
    "# Path name where generated images will be saved\n",
    "img_save_dir = os.path.abspath('./fake_Amoxicillin/') \n",
    "\n",
    "# Path of the saved model file (hdf5 extension)\n",
    "model_path = os.path.abspath('../PADS-GAN/train_256x256_by_class/4/') \n",
    "\n",
    "# Model id set\n",
    "hdf5_set = (5499, 5999, 6499, 6999, 7499, 7999, 8499, 8999, 9999)\n",
    "\n",
    "for id_hdf5 in hdf5_set:\n",
    "\n",
    "    # Path name where generated images will be saved\n",
    "    save_dir = img_save_dir + '/' + str(id_hdf5) + '/'\n",
    "    print(save_dir)\n",
    "    os.mkdir(save_dir)                                  \n",
    "\n",
    "    # Saved model file name (hdf5 extension)\n",
    "    model_fname = model_path + '/' + str(id_hdf5) +'_GENERATOR_weights_and_arch.hdf5'\n",
    "\n",
    "    # Load model\n",
    "    generator = load_model(model_fname)\n",
    "\n",
    "    for i in range(num_fakes):\n",
    "        # Generate sample image\n",
    "        generate_image(generator, noise_shape, save_dir)\n",
    "        print(\"id_model = \",  id_hdf5, \", id_im = \", i) "
   ]
  },
  {
   "cell_type": "code",
   "execution_count": null,
   "metadata": {},
   "outputs": [],
   "source": []
  }
 ],
 "metadata": {
  "kernelspec": {
   "display_name": "Python 3",
   "language": "python",
   "name": "python3"
  },
  "language_info": {
   "codemirror_mode": {
    "name": "ipython",
    "version": 3
   },
   "file_extension": ".py",
   "mimetype": "text/x-python",
   "name": "python",
   "nbconvert_exporter": "python",
   "pygments_lexer": "ipython3",
   "version": "3.6.6"
  }
 },
 "nbformat": 4,
 "nbformat_minor": 2
}
