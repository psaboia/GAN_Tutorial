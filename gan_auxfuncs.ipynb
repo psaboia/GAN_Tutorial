{
 "cells": [
  {
   "cell_type": "markdown",
   "metadata": {},
   "source": [
    "# Functions that are auxiliary to the training process"
   ]
  },
  {
   "cell_type": "code",
   "execution_count": null,
   "metadata": {},
   "outputs": [],
   "source": [
    "import numpy as np\n",
    "import glob\n",
    "import imageio\n",
    "import time\n",
    "import matplotlib.pyplot as plt\n",
    "import matplotlib.gridspec as gridspec\n",
    "from PIL import Image\n",
    "%matplotlib inline"
   ]
  },
  {
   "cell_type": "code",
   "execution_count": null,
   "metadata": {},
   "outputs": [],
   "source": [
    "def get_noisy_binary_labels(batch_size, label, label_range):\n",
    "    if label:\n",
    "        # Values close to 1.0 no intervalo [1 - label_range, 1)\n",
    "        random_samples = (np.ones(batch_size) - (np.random.random_sample(batch_size) * label_range))\n",
    "    else:\n",
    "        # Values close to 0.0 no intervalo [0, label_range)\n",
    "        random_samples = np.random.random_sample(batch_size) * label_range\n",
    "    \n",
    "    return random_samples"
   ]
  },
  {
   "cell_type": "code",
   "execution_count": null,
   "metadata": {},
   "outputs": [],
   "source": [
    "# Transform values from [0,255] to the range [-1.0,1.0] \n",
    "def norm_img(img):\n",
    "    img = (img / 127.5) - 1\n",
    "    return img"
   ]
  },
  {
   "cell_type": "code",
   "execution_count": null,
   "metadata": {},
   "outputs": [],
   "source": [
    "# Transform values from [-1.0,1.0] to the range [0,255]\n",
    "def denorm_img(img):\n",
    "    img = (img + 1) * 127.5\n",
    "    return img.astype(np.uint8)"
   ]
  },
  {
   "cell_type": "code",
   "execution_count": null,
   "metadata": {},
   "outputs": [],
   "source": [
    "# Get image samples from the dataset\n",
    "def sample_from_dataset(batch_size, image_shape, data_dir=None, data = None):\n",
    "    \n",
    "    # Create tensor \n",
    "    sample_dim = (batch_size,) + image_shape\n",
    "    sample = np.empty(sample_dim, dtype=np.float32)\n",
    "    \n",
    "    # Choose image names from the data_dir\n",
    "    all_data_dirlist = list(glob.glob(data_dir))\n",
    "    sample_imgs_paths = np.random.choice(all_data_dirlist, batch_size)\n",
    "    \n",
    "    # Read and preprocess images from the dataset\n",
    "    for index, img_filename in enumerate(sample_imgs_paths):\n",
    "        image = Image.open(img_filename)\n",
    "        image = image.resize(image_shape[:-1])\n",
    "        image = image.convert('RGB') #remove transparent ('A') layer\n",
    "        image = np.asarray(image)\n",
    "        plt.imshow(np.asarray(image))\n",
    "        image = norm_img(image)\n",
    "        sample[index,...] = image\n",
    "    return sample"
   ]
  },
  {
   "cell_type": "markdown",
   "metadata": {},
   "source": [
    "### Generate input noise $Z$ to the Generator $G$\n",
    "\n",
    "NOTE: Using noise produced by __np.random.uniform__,the generator seems to produce _same image_ for _ANY noise_,  \n",
    "but those images (even though they are the same) are very close to the actual image - experiment with it later."
   ]
  },
  {
   "cell_type": "code",
   "execution_count": null,
   "metadata": {},
   "outputs": [],
   "source": [
    "def get_normal_noise_vector(batch_size, noise_shape):\n",
    "    return np.random.normal(0, 1, size = (batch_size,) + noise_shape)"
   ]
  },
  {
   "cell_type": "markdown",
   "metadata": {},
   "source": [
    "### Define function to generate images from a trained generator $G$"
   ]
  },
  {
   "cell_type": "code",
   "execution_count": null,
   "metadata": {},
   "outputs": [],
   "source": [
    "def generate_image(generator, noise_shape, save_dir):\n",
    "    \n",
    "    noise = get_normal_noise_vector(1, noise_shape)\n",
    "    fake_data_X = generator.predict(noise)\n",
    "    array_img = denorm_img(fake_data_X[0, :,:,:])\n",
    "\n",
    "    im = Image.fromarray(array_img)\n",
    "    \n",
    "    # Save generate image\n",
    "    fname = save_dir +'/'+ str(time.time()) + \"_fake_image.png\"\n",
    "    im.save(fname)\n"
   ]
  },
  {
   "cell_type": "markdown",
   "metadata": {},
   "source": [
    "### Save Image Batch "
   ]
  },
  {
   "cell_type": "code",
   "execution_count": null,
   "metadata": {},
   "outputs": [],
   "source": [
    "def save_img_batch(img_batch, img_save_dir):\n",
    "    nr = 4      # number of rows of the grid\n",
    "    nc = 4      # number of columns of the grid    \n",
    "    nig = nr*nc # number of images inside the grid\n",
    "    \n",
    "    plt.figure(figsize=(nr, nc))\n",
    "    gs1 = gridspec.GridSpec(nr, nc)\n",
    "    gs1.update(wspace = 0, hspace = 0)\n",
    "    rand_indices = np.random.choice(img_batch.shape[0], nig, replace = False)\n",
    "    #print(rand_indices)\n",
    "    for i in range(nig):\n",
    "        #plt.subplot(nr, nc, i+1)\n",
    "        ax1 = plt.subplot(gs1[i])\n",
    "        ax1.set_aspect('equal')\n",
    "        rand_index = rand_indices[i]\n",
    "        image = img_batch[rand_index, :,:,:]\n",
    "        fig = plt.imshow(denorm_img(image))\n",
    "        plt.axis('off')\n",
    "        fig.axes.get_xaxis().set_visible(False)\n",
    "        fig.axes.get_yaxis().set_visible(False)\n",
    "    plt.tight_layout()\n",
    "    plt.savefig(img_save_dir, bbox_inches = 'tight', pad_inches = 0)\n",
    "    plt.show()  "
   ]
  },
  {
   "cell_type": "code",
   "execution_count": null,
   "metadata": {},
   "outputs": [],
   "source": [
    "def save_GIF_movie_from_PNG(img_save_dir, name):\n",
    "    images = []\n",
    "    all_data_dirlist = list(glob.glob(img_save_dir + \"*_image.png\"))\n",
    "    \n",
    "    for filename in all_data_dirlist:\n",
    "        img_num = filename.split('/')[-1][0:-10]\n",
    "        if (int(img_num) % 100) == 0:\n",
    "            images.append(imageio.imread(filename))\n",
    "            \n",
    "    imageio.mimsave(img_save_dir + name + '_movie.gif', images) "
   ]
  },
  {
   "cell_type": "code",
   "execution_count": null,
   "metadata": {},
   "outputs": [],
   "source": [
    "def print_average_loss(RD_loss, FD_loss, GAN_loss):\n",
    "        print(\"-----------------------------------------------------------------\")\n",
    "        print(\"Average (Real) D loss: %f\" % (np.mean(RD_loss)))    \n",
    "        print(\"Average (Fake) D loss: %f\" % (np.mean(FD_loss)))    \n",
    "        print(\"Average G loss: %f\" % (np.mean(GAN_loss)))\n",
    "        print(\"-----------------------------------------------------------------\")\n",
    "       "
   ]
  }
 ],
 "metadata": {
  "kernelspec": {
   "display_name": "Python 3",
   "language": "python",
   "name": "python3"
  },
  "language_info": {
   "codemirror_mode": {
    "name": "ipython",
    "version": 3
   },
   "file_extension": ".py",
   "mimetype": "text/x-python",
   "name": "python",
   "nbconvert_exporter": "python",
   "pygments_lexer": "ipython3",
   "version": "3.5.2"
  }
 },
 "nbformat": 4,
 "nbformat_minor": 2
}
